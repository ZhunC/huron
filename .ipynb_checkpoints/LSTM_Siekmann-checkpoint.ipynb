{
 "cells": [
  {
   "cell_type": "code",
   "execution_count": 3,
   "id": "232a42e7-f0ce-4835-8c99-6afe603fd680",
   "metadata": {},
   "outputs": [],
   "source": [
    "import torch; torch.manual_seed(0)\n",
    "import torch.nn as nn\n",
    "import torch.nn.functional as F\n",
    "import torch.utils\n",
    "import torch.distributions\n",
    "import numpy as np\n",
    "import matplotlib.pyplot as plt; plt.rcParams['figure.dpi'] = 200"
   ]
  },
  {
   "cell_type": "code",
   "execution_count": 8,
   "id": "d466ab3d-d803-4854-bb20-5daa84e2da87",
   "metadata": {},
   "outputs": [],
   "source": [
    "class PD_network(nn.Module):\n",
    "    def __init__(self, input_dim, output_dim):\n",
    "        super(PD_network, self).__init__()\n",
    "        self.lstm1 = nn.LSTM(input_dim, 128)\n",
    "        self.lstm2 = nn.LSTM(128, 128)\n",
    "        self.linear = nn.Linear(128, output_dim)\n",
    "    \n"
   ]
  },
  {
   "cell_type": "code",
   "execution_count": 10,
   "id": "cd5bd55e-61b0-41ff-8ea5-ade96fecd1a6",
   "metadata": {},
   "outputs": [
    {
     "name": "stdout",
     "output_type": "stream",
     "text": [
      "<class 'torch.nn.modules.rnn.LSTM'>\n"
     ]
    }
   ],
   "source": [
    "network1 = PD_network(49, 10)\n",
    "print(type(network1.lstm1))"
   ]
  },
  {
   "cell_type": "code",
   "execution_count": null,
   "id": "d54ad473-a39b-4a91-8d77-4d35d399e68f",
   "metadata": {},
   "outputs": [],
   "source": []
  }
 ],
 "metadata": {
  "kernelspec": {
   "display_name": "Python 3 (ipykernel)",
   "language": "python",
   "name": "python3"
  },
  "language_info": {
   "codemirror_mode": {
    "name": "ipython",
    "version": 3
   },
   "file_extension": ".py",
   "mimetype": "text/x-python",
   "name": "python",
   "nbconvert_exporter": "python",
   "pygments_lexer": "ipython3",
   "version": "3.10.12"
  }
 },
 "nbformat": 4,
 "nbformat_minor": 5
}
