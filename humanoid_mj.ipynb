{
 "cells": [
  {
   "cell_type": "code",
   "execution_count": 4,
   "id": "bc8d8ada-50ed-4241-aa69-4139a91b772c",
   "metadata": {},
   "outputs": [],
   "source": [
    "import mujoco \n",
    "import numpy as np\n",
    "import pandas as pd\n",
    "import mujoco.viewer as viewer\n",
    "import time\n",
    "import matplotlib.pyplot as ppl\n",
    "import LSTM_Siekmann as lstm\n",
    "import torch"
   ]
  },
  {
   "cell_type": "code",
   "execution_count": 1,
   "id": "bfc2f6f6-27ed-44eb-a3f2-f5133a79a444",
   "metadata": {},
   "outputs": [],
   "source": [
    "# Create a Mujoco simulation\n",
    "model = mujoco.MjModel.from_xml_path(\"./OSU_Cassie/cassie.xml\") \n",
    "# Agility Robotics. cassie-mujoco-sim. (2018) [Online]. Available: https://github.com/osudrl/cassie-mujoco-sim\n",
    "# viewer.launch(model)\n",
    "data = mujoco.MjData(model)\n",
    "# dir(data)\n",
    "viewer.launch(model)\n"
   ]
  },
  {
   "cell_type": "code",
   "execution_count": 5,
   "id": "8b0417d9-4240-4564-bf2f-571a36a9d24d",
   "metadata": {},
   "outputs": [
    {
     "name": "stdout",
     "output_type": "stream",
     "text": [
      "Using cpu device\n"
     ]
    }
   ],
   "source": [
    "device = (\n",
    "    \"cuda\"\n",
    "    if torch.cuda.is_available()\n",
    "    else \"mps\"\n",
    "    if torch.backends.mps.is_available()\n",
    "    else \"cpu\"\n",
    ")\n",
    "print(f\"Using {device} device\")"
   ]
  },
  {
   "cell_type": "code",
   "execution_count": 18,
   "id": "4a53f0d2-a358-44b8-8f91-08500e8122c5",
   "metadata": {},
   "outputs": [
    {
     "name": "stdout",
     "output_type": "stream",
     "text": [
      "(32,)\n",
      "(10,)\n"
     ]
    }
   ],
   "source": [
    "print(data.qvel.shape)\n",
    "print(data.ctrl.shape)"
   ]
  },
  {
   "cell_type": "code",
   "execution_count": null,
   "id": "38d8a439-9de1-48b8-b35b-e6d771b5926f",
   "metadata": {},
   "outputs": [],
   "source": [
    "# desired velocities\n",
    "vel_des = [0.2, 0, 0]"
   ]
  },
  {
   "cell_type": "code",
   "execution_count": null,
   "id": "e51b5b62-9a80-44f1-bf96-9c60bed9e906",
   "metadata": {},
   "outputs": [],
   "source": [
    "with mujoco.viewer.launch_passive(model, data) as viewer:\n",
    "    # initialize\n",
    "    viewer.sync()\n",
    "    # preparing empty lists for data logging\n",
    "    xpos = []\n",
    "    ypos = []\n",
    "    zpos = []\n",
    "\n",
    "    # get relevant shapes\n",
    "    \n",
    "    # main loop\n",
    "    for i in range(150):\n",
    "\n",
    "        # Calculate Reward\n",
    "        # assume qvel [19:22] is x y z vel\n",
    "        # Reward sticking to given velocities\n",
    "        R = (data.qvel[19]-vel_des[0]) ** 2 + \\\n",
    "            (data.qvel[20]-vel_des[1]) ** 2 + \\\n",
    "            (data.qvel[21]-vel_des[2]) ** 2 \n",
    "        \n",
    "        # Calculate PD targets\n",
    "        network = lstm.PD_network() \n",
    "        # Calculate control\n",
    "        \n",
    "        mujoco.mj_step(model, data)\n",
    "        viewer.sync()\n",
    "        time.sleep(0.1)"
   ]
  }
 ],
 "metadata": {
  "kernelspec": {
   "display_name": "Python 3 (ipykernel)",
   "language": "python",
   "name": "python3"
  },
  "language_info": {
   "codemirror_mode": {
    "name": "ipython",
    "version": 3
   },
   "file_extension": ".py",
   "mimetype": "text/x-python",
   "name": "python",
   "nbconvert_exporter": "python",
   "pygments_lexer": "ipython3",
   "version": "3.10.12"
  }
 },
 "nbformat": 4,
 "nbformat_minor": 5
}
